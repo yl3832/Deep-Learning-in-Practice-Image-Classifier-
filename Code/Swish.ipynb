{
 "cells": [
  {
   "cell_type": "code",
   "execution_count": 1,
   "metadata": {},
   "outputs": [
    {
     "name": "stdout",
     "output_type": "stream",
     "text": [
      "Downloading http://www.cs.toronto.edu/~kriz/cifar-10-python.tar.gz to ./data/cifar-10-python.tar.gz\n",
      "Files already downloaded and verified\n"
     ]
    }
   ],
   "source": [
    "%matplotlib inline\n",
    "import torch\n",
    "import torchvision\n",
    "import torchvision.transforms as transforms\n",
    "from torch.autograd import Variable\n",
    "import torch.nn as nn\n",
    "import torch.nn.functional as F\n",
    "import torch.optim as optim\n",
    "import matplotlib.pyplot as plt\n",
    "import numpy as np\n",
    "\n",
    "#Standardization\n",
    "transform = transforms.Compose(\n",
    "    [transforms.ToTensor(),\n",
    "     transforms.Normalize((0.5, 0.5, 0.5), (0.5, 0.5, 0.5))])\n",
    "\n",
    "trainset = torchvision.datasets.CIFAR10(root='./data', train=True,\n",
    "                                        download=True, transform=transform)\n",
    "trainloader = torch.utils.data.DataLoader(trainset, batch_size=4,\n",
    "                                          shuffle=True, num_workers=2)\n",
    "\n",
    "testset = torchvision.datasets.CIFAR10(root='./data', train=False,\n",
    "                                       download=True, transform=transform)\n",
    "testloader = torch.utils.data.DataLoader(testset, batch_size=4,\n",
    "                                         shuffle=False, num_workers=2)\n",
    "\n",
    "classes = ('Plane', 'Automobile', 'Bird', 'Cat', 'Deer', 'Dog', 'Frog', 'Hourse', 'Ship', 'Truck')\n",
    "\n",
    "# Show the img\n",
    "def imshow(img):\n",
    "    img = img / 2 + 0.5     \n",
    "    # Anti-Standardization\n",
    "    npimg = img.numpy()\n",
    "    plt.imshow(np.transpose(npimg, (1, 2, 0)))"
   ]
  },
  {
   "cell_type": "code",
   "execution_count": 3,
   "metadata": {},
   "outputs": [
    {
     "name": "stdout",
     "output_type": "stream",
     "text": [
      "Net1 (\n",
      "  (conv1): Conv2d(3, 64, kernel_size=(3, 3), stride=(1, 1), padding=(1, 1))\n",
      "  (bn1): BatchNorm2d(64, eps=1e-05, momentum=0.1, affine=True)\n",
      "  (conv2): Conv2d(64, 64, kernel_size=(3, 3), stride=(1, 1), padding=(1, 1))\n",
      "  (bn2): BatchNorm2d(64, eps=1e-05, momentum=0.1, affine=True)\n",
      "  (conv3): Conv2d(64, 192, kernel_size=(3, 3), stride=(1, 1), padding=(1, 1))\n",
      "  (bn3): BatchNorm2d(192, eps=1e-05, momentum=0.1, affine=True)\n",
      "  (conv4): Conv2d(192, 192, kernel_size=(3, 3), stride=(1, 1), padding=(1, 1))\n",
      "  (bn4): BatchNorm2d(192, eps=1e-05, momentum=0.1, affine=True)\n",
      "  (conv5): Conv2d(192, 384, kernel_size=(3, 3), stride=(1, 1), padding=(1, 1))\n",
      "  (bn5): BatchNorm2d(384, eps=1e-05, momentum=0.1, affine=True)\n",
      "  (conv6): Conv2d(384, 256, kernel_size=(3, 3), stride=(1, 1), padding=(1, 1))\n",
      "  (bn6): BatchNorm2d(256, eps=1e-05, momentum=0.1, affine=True)\n",
      "  (conv7): Conv2d(256, 256, kernel_size=(3, 3), stride=(1, 1))\n",
      "  (bn7): BatchNorm2d(256, eps=1e-05, momentum=0.1, affine=True)\n",
      "  (dropout): Dropout (p = 0.5)\n",
      "  (fc1): Linear (2304 -> 4096)\n",
      "  (fc2): Linear (4096 -> 4096)\n",
      "  (fc3): Linear (4096 -> 10)\n",
      ")\n"
     ]
    }
   ],
   "source": [
    "class Net1(nn.Module):\n",
    "    def __init__(self):\n",
    "        super(Net1, self).__init__()\n",
    "        self.conv1 = nn.Conv2d(3, 64, 3, padding=1)\n",
    "        self.bn1 = nn.BatchNorm2d(64)\n",
    "        self.conv2 = nn.Conv2d(64, 64, 3, padding=1)\n",
    "        self.bn2 = nn.BatchNorm2d(64)\n",
    "        #pooling 16 \n",
    "        self.conv3 = nn.Conv2d(64, 192, 3, padding=1)\n",
    "        self.bn3 = nn.BatchNorm2d(192)\n",
    "        self.conv4 = nn.Conv2d(192, 192, 3, padding=1)\n",
    "        self.bn4 = nn.BatchNorm2d(192)\n",
    "        #pooling 8 \n",
    "        self.conv5 = nn.Conv2d(192, 384, 3, padding=1)\n",
    "        self.bn5 = nn.BatchNorm2d(384)\n",
    "        self.conv6 = nn.Conv2d(384, 256, 3, padding=1)\n",
    "        self.bn6 = nn.BatchNorm2d(256)\n",
    "        self.conv7 = nn.Conv2d(256, 256, 3)\n",
    "        self.bn7 = nn.BatchNorm2d(256)\n",
    "        #pooling 3\n",
    "        self.dropout = nn.Dropout()\n",
    "        self.fc1 = nn.Linear(256 * 3 * 3, 4096)\n",
    "        self.fc2 = nn.Linear(4096, 4096)\n",
    "        self.fc3 = nn.Linear(4096, 10)\n",
    "\n",
    "    def forward(self, x):\n",
    "        x = F.sigmoid(self.bn1(self.conv1(x)))*(self.bn1(self.conv1(x)))\n",
    "        x = F.max_pool2d((F.sigmoid(self.bn2(self.conv2(x)))*(self.bn2(self.conv2(x)))), (2, 2))\n",
    "        x = F.sigmoid(self.bn3(self.conv3(x)))*(self.bn3(self.conv3(x)))\n",
    "        x = F.max_pool2d((F.sigmoid(self.bn4(self.conv4(x)))*(self.bn4(self.conv4(x)))), (2, 2))\n",
    "        x = F.sigmoid(self.bn5(self.conv5(x)))*(self.bn5(self.conv5(x)))\n",
    "        x = F.sigmoid(self.bn6(self.conv6(x)))*(self.bn6(self.conv6(x)))\n",
    "        x = F.max_pool2d((F.sigmoid(self.bn7(self.conv7(x)))*(self.bn7(self.conv7(x)))), (2, 2))\n",
    "        x = x.view(x.size(0), 256 * 3 * 3)\n",
    "        x = self.dropout(x)\n",
    "        x = F.sigmoid(self.fc1(x))*self.fc1(x)\n",
    "        x = F.sigmoid(self.fc2(x))*self.fc2(x)\n",
    "        x = self.fc3(x)\n",
    "        return x\n",
    "\n",
    "net = Net1()\n",
    "print(net)"
   ]
  },
  {
   "cell_type": "code",
   "execution_count": 4,
   "metadata": {
    "collapsed": true
   },
   "outputs": [],
   "source": [
    "# Cross EntropyLoss\n",
    "criterion = nn.CrossEntropyLoss()\n",
    "# Optimizer：SGD\n",
    "optimizer = optim.SGD(net.parameters(), lr=0.001, momentum=0.9)"
   ]
  },
  {
   "cell_type": "code",
   "execution_count": 23,
   "metadata": {
    "scrolled": true
   },
   "outputs": [
    {
     "name": "stdout",
     "output_type": "stream",
     "text": [
      "[1,  2000] loss: 0.261\n",
      "[1,  4000] loss: 0.282\n",
      "[1,  6000] loss: 0.306\n",
      "[1,  8000] loss: 0.298\n",
      "[1, 10000] loss: 0.302\n",
      "[1, 12000] loss: 0.319\n",
      "Finished Training\n"
     ]
    }
   ],
   "source": [
    "# An epoch means going through all data once 6 epoches 81% \n",
    "for epoch in range(1):  \n",
    "\n",
    "    running_loss = 0.0\n",
    "# enumerate is a function in python that enumerate batches\n",
    "    for i, data in enumerate(trainloader, 0):\n",
    "        # Output\n",
    "        inputs, labels = data\n",
    "        \n",
    "        # Variable \n",
    "        inputs, labels = Variable(inputs), Variable(labels)\n",
    "\n",
    "        # Set gradients of Variable as zero\n",
    "        optimizer.zero_grad()\n",
    "\n",
    "        # forward + backward + optimize\n",
    "        outputs = net(inputs)\n",
    "        loss = criterion(outputs, labels)\n",
    "        loss.backward()\n",
    "        optimizer.step()\n",
    "\n",
    "        # print statistics\n",
    "        running_loss += loss.data[0]\n",
    "        if i % 2000 == 1999:    # print every 2000 mini-batches\n",
    "            print('[%d, %5d] loss: %.3f' %\n",
    "                  (epoch + 1, i + 1, running_loss / 2000))\n",
    "            running_loss = 0.0\n",
    "\n",
    "print('Finished Training')"
   ]
  },
  {
   "cell_type": "code",
   "execution_count": 24,
   "metadata": {},
   "outputs": [
    {
     "name": "stdout",
     "output_type": "stream",
     "text": [
      "Accuracy of the network on the 10000 test images: 81 %\n"
     ]
    }
   ],
   "source": [
    "correct = 0\n",
    "total = 0\n",
    "for data in testloader:\n",
    "    images, labels = data\n",
    "    labels = labels\n",
    "    outputs = net(Variable(images))\n",
    "    _, predicted = torch.max(outputs.data, 1)\n",
    "    total += labels.size(0)\n",
    "    correct += (predicted == labels).sum()\n",
    "\n",
    "print('Accuracy of the network on the 10000 test images: %d %%' % (\n",
    "    100 * correct / total))"
   ]
  },
  {
   "cell_type": "code",
   "execution_count": 25,
   "metadata": {},
   "outputs": [
    {
     "name": "stdout",
     "output_type": "stream",
     "text": [
      " 飞机 Prediction Accuarcy: 86 %\n",
      " 汽车 Prediction Accuarcy: 91 %\n",
      "   鸟 Prediction Accuarcy: 69 %\n",
      "   猫 Prediction Accuarcy: 55 %\n",
      "   鹿 Prediction Accuarcy: 80 %\n",
      "   狗 Prediction Accuarcy: 84 %\n",
      " 青蛙 Prediction Accuarcy: 88 %\n",
      "   马 Prediction Accuarcy: 84 %\n",
      "   船 Prediction Accuarcy: 84 %\n",
      " 卡车 Prediction Accuarcy: 88 %\n"
     ]
    }
   ],
   "source": [
    "#36\n",
    "class_correct = list(0. for i in range(10))\n",
    "class_total = list(0. for i in range(10))\n",
    "for data in testloader:\n",
    "    images, labels = data\n",
    "    labels = labels\n",
    "    outputs = net(Variable(images))\n",
    "    _, predicted = torch.max(outputs.data, 1)\n",
    "    c = (predicted == labels).squeeze()\n",
    "    for i in range(4):\n",
    "        label = labels[i]\n",
    "        class_correct[label] += c[i]\n",
    "        class_total[label] += 1\n",
    "\n",
    "\n",
    "for i in range(10):\n",
    "    print(' %5s Prediction Accuarcy: %2d %%' % (\n",
    "        classes[i], 100 * class_correct[i] / class_total[i]))"
   ]
  },
  {
   "cell_type": "code",
   "execution_count": 26,
   "metadata": {},
   "outputs": [
    {
     "data": {
      "text/plain": [
       "Net1 (\n",
       "  (conv1): Conv2d(3, 64, kernel_size=(3, 3), stride=(1, 1), padding=(1, 1))\n",
       "  (bn1): BatchNorm2d(64, eps=1e-05, momentum=0.1, affine=True)\n",
       "  (conv2): Conv2d(64, 64, kernel_size=(3, 3), stride=(1, 1), padding=(1, 1))\n",
       "  (bn2): BatchNorm2d(64, eps=1e-05, momentum=0.1, affine=True)\n",
       "  (conv3): Conv2d(64, 192, kernel_size=(3, 3), stride=(1, 1), padding=(1, 1))\n",
       "  (bn3): BatchNorm2d(192, eps=1e-05, momentum=0.1, affine=True)\n",
       "  (conv4): Conv2d(192, 192, kernel_size=(3, 3), stride=(1, 1), padding=(1, 1))\n",
       "  (bn4): BatchNorm2d(192, eps=1e-05, momentum=0.1, affine=True)\n",
       "  (conv5): Conv2d(192, 384, kernel_size=(3, 3), stride=(1, 1), padding=(1, 1))\n",
       "  (bn5): BatchNorm2d(384, eps=1e-05, momentum=0.1, affine=True)\n",
       "  (conv6): Conv2d(384, 256, kernel_size=(3, 3), stride=(1, 1), padding=(1, 1))\n",
       "  (bn6): BatchNorm2d(256, eps=1e-05, momentum=0.1, affine=True)\n",
       "  (conv7): Conv2d(256, 256, kernel_size=(3, 3), stride=(1, 1))\n",
       "  (bn7): BatchNorm2d(256, eps=1e-05, momentum=0.1, affine=True)\n",
       "  (dropout): Dropout (p = 0.5)\n",
       "  (fc1): Linear (2304 -> 4096)\n",
       "  (fc2): Linear (4096 -> 4096)\n",
       "  (fc3): Linear (4096 -> 10)\n",
       ")"
      ]
     },
     "execution_count": 26,
     "metadata": {},
     "output_type": "execute_result"
    }
   ],
   "source": [
    "#dropout Switch\n",
    "net.dropout = nn.Dropout(p=0.5)\n",
    "net"
   ]
  },
  {
   "cell_type": "code",
   "execution_count": 27,
   "metadata": {},
   "outputs": [
    {
     "name": "stdout",
     "output_type": "stream",
     "text": [
      "Accuracy of the network on the 10000 test images: 81 %\n"
     ]
    }
   ],
   "source": [
    "#dropout Switch\n",
    "net.dropout = nn.Dropout(p=0)\n",
    "correct = 0\n",
    "total = 0\n",
    "for data in testloader:\n",
    "    images, labels = data\n",
    "    labels = labels\n",
    "    outputs = net(Variable(images))\n",
    "    _, predicted = torch.max(outputs.data, 1)\n",
    "    total += labels.size(0)\n",
    "    correct += (predicted == labels).sum()\n",
    "\n",
    "print('Accuracy of the network on the 10000 test images: %d %%' % (\n",
    "    100 * correct / total))"
   ]
  },
  {
   "cell_type": "code",
   "execution_count": null,
   "metadata": {
    "collapsed": true
   },
   "outputs": [],
   "source": []
  }
 ],
 "metadata": {
  "kernelspec": {
   "display_name": "Python 2",
   "language": "python",
   "name": "python2"
  },
  "language_info": {
   "codemirror_mode": {
    "name": "ipython",
    "version": 2
   },
   "file_extension": ".py",
   "mimetype": "text/x-python",
   "name": "python",
   "nbconvert_exporter": "python",
   "pygments_lexer": "ipython2",
   "version": "2.7.13"
  }
 },
 "nbformat": 4,
 "nbformat_minor": 2
}
