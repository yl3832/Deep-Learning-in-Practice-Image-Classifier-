{
 "cells": [
  {
   "cell_type": "code",
   "execution_count": 1,
   "metadata": {},
   "outputs": [
    {
     "name": "stdout",
     "output_type": "stream",
     "text": [
      "Files already downloaded and verified\n",
      "Files already downloaded and verified\n"
     ]
    }
   ],
   "source": [
    "%matplotlib inline\n",
    "import torch\n",
    "import torchvision\n",
    "import torchvision.transforms as transforms\n",
    "from torch.autograd import Variable\n",
    "import torch.nn as nn\n",
    "import torch.nn.functional as F\n",
    "import torch.optim as optim\n",
    "import matplotlib.pyplot as plt\n",
    "import numpy as np\n",
    "\n",
    "#Nomalization\n",
    "transform = transforms.Compose(\n",
    "    [transforms.ToTensor(),\n",
    "     transforms.Normalize((0.5, 0.5, 0.5), (0.5, 0.5, 0.5))])\n",
    "\n",
    "trainset = torchvision.datasets.CIFAR10(root='./data', train=True,\n",
    "                                        download=True, transform=transform)\n",
    "trainloader = torch.utils.data.DataLoader(trainset, batch_size=4,\n",
    "                                          shuffle=True, num_workers=2)\n",
    "\n",
    "testset = torchvision.datasets.CIFAR10(root='./data', train=False,\n",
    "                                       download=True, transform=transform)\n",
    "testloader = torch.utils.data.DataLoader(testset, batch_size=4,\n",
    "                                         shuffle=False, num_workers=2)\n",
    "\n",
    "classes = ('Plane', 'Car', 'Bird', 'Cat', 'Deer', 'Dog', 'Frog', 'Horse', 'Ship', 'Truck')\n",
    "\n",
    "# Show the image\n",
    "def imshow(img):\n",
    "    img = img / 2 + 0.5     \n",
    "    # Take the transpose\n",
    "    npimg = img.numpy()\n",
    "    plt.imshow(np.transpose(npimg, (1, 2, 0)))"
   ]
  },
  {
   "cell_type": "code",
   "execution_count": 2,
   "metadata": {},
   "outputs": [
    {
     "name": "stdout",
     "output_type": "stream",
     "text": [
      "Net1 (\n",
      "  (conv1): Conv2d(3, 32, kernel_size=(5, 5), stride=(1, 1), padding=(2, 2))\n",
      "  (conv2): Conv2d(32, 96, kernel_size=(3, 3), stride=(1, 1), padding=(1, 1))\n",
      "  (conv3): Conv2d(96, 192, kernel_size=(3, 3), stride=(1, 1), padding=(1, 1))\n",
      "  (conv4): Conv2d(192, 128, kernel_size=(3, 3), stride=(1, 1), padding=(1, 1))\n",
      "  (conv5): Conv2d(128, 128, kernel_size=(3, 3), stride=(1, 1))\n",
      "  (fc1): Linear (1152 -> 2048)\n",
      "  (fc2): Linear (2048 -> 2048)\n",
      "  (fc3): Linear (2048 -> 10)\n",
      ")\n"
     ]
    }
   ],
   "source": [
    "class Net1(nn.Module):\n",
    "    def __init__(self):\n",
    "        super(Net1, self).__init__()\n",
    "        self.conv1 = nn.Conv2d(3, 32, 5, padding=2)\n",
    "        #pooling 16 \n",
    "        self.conv2 = nn.Conv2d(32, 96, 3, padding=1)\n",
    "        #pooling 8 \n",
    "        self.conv3 = nn.Conv2d(96, 192, 3, padding=1)\n",
    "        # 8\n",
    "        self.conv4 = nn.Conv2d(192, 128, 3, padding=1)\n",
    "        # 8\n",
    "        self.conv5 = nn.Conv2d(128, 128, 3)\n",
    "        #pooling 3\n",
    "        self.fc1 = nn.Linear(128 * 3 * 3, 2048)\n",
    "        self.fc2 = nn.Linear(2048, 2048)\n",
    "        self.fc3 = nn.Linear(2048, 10)\n",
    "\n",
    "    def forward(self, x):\n",
    "        x = F.max_pool2d(F.relu(self.conv1(x)), (2, 2))\n",
    "        x = F.max_pool2d(F.relu(self.conv2(x)), (2, 2))\n",
    "        x = F.relu(self.conv3(x))\n",
    "        x = F.relu(self.conv4(x))\n",
    "        x = F.max_pool2d(F.relu(self.conv5(x)), (2, 2))\n",
    "        x = x.view(x.size(0), 128 * 3 * 3)\n",
    "        x = F.relu(self.fc1(x))\n",
    "        x = F.relu(self.fc2(x))\n",
    "        x = self.fc3(x)\n",
    "        return x\n",
    "\n",
    "net = Net1()\n",
    "net = net.cuda()\n",
    "print(net)"
   ]
  },
  {
   "cell_type": "code",
   "execution_count": 3,
   "metadata": {
    "collapsed": true
   },
   "outputs": [],
   "source": [
    "# Cross Entroy Loss Function\n",
    "criterion = nn.CrossEntropyLoss()\n",
    "# Optimizer：SGD\n",
    "optimizer = optim.SGD(net.parameters(), lr=0.001, momentum=0.9)"
   ]
  },
  {
   "cell_type": "code",
   "execution_count": 4,
   "metadata": {
    "scrolled": false
   },
   "outputs": [
    {
     "name": "stdout",
     "output_type": "stream",
     "text": [
      "[1,  2000] loss: 2.303\n",
      "[1,  4000] loss: 2.195\n",
      "[1,  6000] loss: 1.894\n",
      "[1,  8000] loss: 1.739\n",
      "[1, 10000] loss: 1.618\n",
      "[1, 12000] loss: 1.522\n",
      "[2,  2000] loss: 1.413\n",
      "[2,  4000] loss: 1.364\n",
      "[2,  6000] loss: 1.291\n",
      "[2,  8000] loss: 1.225\n",
      "[2, 10000] loss: 1.173\n",
      "[2, 12000] loss: 1.124\n",
      "[3,  2000] loss: 1.029\n",
      "[3,  4000] loss: 0.982\n",
      "[3,  6000] loss: 0.954\n",
      "[3,  8000] loss: 0.937\n",
      "[3, 10000] loss: 0.907\n",
      "[3, 12000] loss: 0.882\n",
      "[4,  2000] loss: 0.785\n",
      "[4,  4000] loss: 0.798\n",
      "[4,  6000] loss: 0.767\n",
      "[4,  8000] loss: 0.749\n",
      "[4, 10000] loss: 0.775\n",
      "[4, 12000] loss: 0.724\n",
      "Finished Training\n"
     ]
    }
   ],
   "source": [
    "# loop over epoches\n",
    "for epoch in range(4):  \n",
    "\n",
    "    running_loss = 0.0\n",
    "# enumerate function in python to enumerate(one batch a time)\n",
    "    for i, data in enumerate(trainloader, 0):\n",
    "        # input\n",
    "        inputs, labels = data\n",
    "        \n",
    "        # put in Variable(pytorch)\n",
    "        inputs, labels = Variable(inputs.cuda()), Variable(labels.cuda())\n",
    "\n",
    "        # Set Variables' Gradient as Zeros\n",
    "        optimizer.zero_grad()\n",
    "\n",
    "        # forward + backward + optimize\n",
    "        outputs = net(inputs)\n",
    "        loss = criterion(outputs, labels)\n",
    "        loss.backward()\n",
    "        optimizer.step()\n",
    "\n",
    "        # print statistics\n",
    "        running_loss += loss.data[0]\n",
    "        if i % 2000 == 1999:    # Print every 2000 mini-batches\n",
    "            print('[%d, %5d] loss: %.3f' %\n",
    "                  (epoch + 1, i + 1, running_loss / 2000))\n",
    "            running_loss = 0.0\n",
    "\n",
    "print('Finished Training')"
   ]
  },
  {
   "cell_type": "code",
   "execution_count": 109,
   "metadata": {},
   "outputs": [
    {
     "name": "stdout",
     "output_type": "stream",
     "text": [
      "Accuracy of the network on the 10000 test images: 76 %\n"
     ]
    }
   ],
   "source": [
    "correct = 0\n",
    "total = 0\n",
    "for data in testloader:\n",
    "    images, labels = data\n",
    "    labels = labels.cuda()\n",
    "    outputs = net(Variable(images.cuda()))\n",
    "    _, predicted = torch.max(outputs.data, 1)\n",
    "    total += labels.size(0)\n",
    "    correct += (predicted == labels).sum()\n",
    "\n",
    "print('Accuracy of the network on the 10000 test images: %d %%' % (\n",
    "    100 * correct / total))"
   ]
  },
  {
   "cell_type": "code",
   "execution_count": 110,
   "metadata": {},
   "outputs": [
    {
     "name": "stdout",
     "output_type": "stream",
     "text": [
      "    飞机 图片预测的准确度: 72 %\n",
      "    汽车 图片预测的准确度: 85 %\n",
      "     鸟 图片预测的准确度: 68 %\n",
      "     猫 图片预测的准确度: 54 %\n",
      "     鹿 图片预测的准确度: 78 %\n",
      "     狗 图片预测的准确度: 71 %\n",
      "    青蛙 图片预测的准确度: 81 %\n",
      "     马 图片预测的准确度: 77 %\n",
      "     船 图片预测的准确度: 90 %\n",
      "    卡车 图片预测的准确度: 86 %\n"
     ]
    }
   ],
   "source": [
    "class_correct = list(0. for i in range(10))\n",
    "class_total = list(0. for i in range(10))\n",
    "for data in testloader:\n",
    "    images, labels = data\n",
    "    labels = labels.cuda()\n",
    "    outputs = net(Variable(images.cuda()))\n",
    "    _, predicted = torch.max(outputs.data, 1)\n",
    "    c = (predicted == labels).squeeze()\n",
    "    for i in range(4):\n",
    "        label = labels[i]\n",
    "        class_correct[label] += c[i]\n",
    "        class_total[label] += 1\n",
    "\n",
    "\n",
    "for i in range(10):\n",
    "    print(' %5s Accuarcy of Prediction: %2d %%' % (\n",
    "        classes[i], 100 * class_correct[i] / class_total[i]))"
   ]
  }
 ],
 "metadata": {
  "kernelspec": {
   "display_name": "Python 2",
   "language": "python",
   "name": "python2"
  },
  "language_info": {
   "codemirror_mode": {
    "name": "ipython",
    "version": 2
   },
   "file_extension": ".py",
   "mimetype": "text/x-python",
   "name": "python",
   "nbconvert_exporter": "python",
   "pygments_lexer": "ipython2",
   "version": "2.7.13"
  }
 },
 "nbformat": 4,
 "nbformat_minor": 2
}
